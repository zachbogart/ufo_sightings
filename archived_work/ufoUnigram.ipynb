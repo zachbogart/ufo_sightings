{
 "cells": [
  {
   "cell_type": "code",
   "execution_count": 1,
   "metadata": {},
   "outputs": [],
   "source": []
  },
  {
   "cell_type": "code",
   "execution_count": null,
   "metadata": {},
   "outputs": [],
   "source": []
  },
  {
   "cell_type": "code",
   "execution_count": 10,
   "metadata": {},
   "outputs": [],
   "source": [
    "import pandas as pd\n",
    "from pyspark import SparkContext, SparkConf\n",
    "import numpy as np\n",
    "from collections import defaultdict, Counter\n",
    "import itertools\n",
    "import nltk\n"
   ]
  },
  {
   "cell_type": "code",
   "execution_count": 2,
   "metadata": {},
   "outputs": [],
   "source": [
    "from nltk.corpus import stopwords,wordnet\n",
    "import re\n",
    "def genCorpus(theText):\n",
    "    #set dictionaries\n",
    "    stopWords = set(stopwords.words('english'))\n",
    "    theStemmer = nltk.stem.porter.PorterStemmer() #Martin Porters celebrated stemming algorithm\n",
    "    \n",
    "    #pre-processing\n",
    "    theText = theText.split()\n",
    "    tokens = [token.lower() for token in theText] #ensure everything is lower case\n",
    "    tokens = [re.sub(r'[^a-zA-Z0-9]+', ' ',token) for token in tokens] #remove special characters but leave word in tact\n",
    "    tokens = [token for token in tokens if token.lower().isalpha()] #ensure everything is a letter\n",
    "    tokens = [word for word in tokens if word not in stopWords] #rid of stop words\n",
    "    tokens = [theStemmer.stem(word) for word in tokens] #stem words uing porter stemming algorithm\n",
    "    tokens = \" \".join(tokens) #need to pass string seperated by spaces       \n",
    "\n",
    "    return tokens"
   ]
  },
  {
   "cell_type": "code",
   "execution_count": 3,
   "metadata": {},
   "outputs": [],
   "source": [
    "conf = SparkConf().setAppName(\"App\")\n",
    "conf = (conf.setMaster('local[*]')\n",
    "        .set('spark.executor.memory', '8G')\n",
    "        .set('spark.driver.memory', '12G')\n",
    "        .set('spark.driver.maxResultSize', '10G'))\n",
    "sc = SparkContext(conf=conf)"
   ]
  },
  {
   "cell_type": "code",
   "execution_count": 4,
   "metadata": {},
   "outputs": [],
   "source": [
    "ufo = pd.read_csv('ufo_data.csv')"
   ]
  },
  {
   "cell_type": "code",
   "execution_count": 5,
   "metadata": {},
   "outputs": [],
   "source": [
    "desc = ufo['Desc']\n",
    "# desc.to_csv('file.txt', index=False)"
   ]
  },
  {
   "cell_type": "code",
   "execution_count": 6,
   "metadata": {},
   "outputs": [],
   "source": [
    "desc = list(ufo['Desc'].apply(lambda x: str(x).strip('[]')))"
   ]
  },
  {
   "cell_type": "code",
   "execution_count": null,
   "metadata": {},
   "outputs": [],
   "source": []
  },
  {
   "cell_type": "markdown",
   "metadata": {},
   "source": [
    "## Problem 1"
   ]
  },
  {
   "cell_type": "code",
   "execution_count": 13,
   "metadata": {},
   "outputs": [],
   "source": [
    "rdd = sc.parallelize(desc)\n",
    "cl_rdd = rdd.map(lambda x: genCorpus(x))\n",
    "words = cl_rdd.flatMap(lambda x: x.split())"
   ]
  },
  {
   "cell_type": "code",
   "execution_count": 14,
   "metadata": {},
   "outputs": [],
   "source": [
    "wordCount = words.countByValue()\n",
    "mostCommonWords = dict(Counter(wordCount).most_common(100))"
   ]
  },
  {
   "cell_type": "code",
   "execution_count": 15,
   "metadata": {},
   "outputs": [
    {
     "data": {
      "text/plain": [
       "8709183"
      ]
     },
     "execution_count": 15,
     "metadata": {},
     "output_type": "execute_result"
    }
   ],
   "source": [
    "words.count()"
   ]
  },
  {
   "cell_type": "code",
   "execution_count": 16,
   "metadata": {},
   "outputs": [],
   "source": [
    "\n",
    "twoWordsRdd = cl_rdd.flatMap(lambda x: list(itertools.combinations(x.split(), 2)))\n",
    "twoWords = twoWordsRdd.countByValue()"
   ]
  },
  {
   "cell_type": "code",
   "execution_count": 18,
   "metadata": {},
   "outputs": [],
   "source": [
    "topTwoWords = dict(Counter(twoWords).most_common(100))"
   ]
  },
  {
   "cell_type": "code",
   "execution_count": 23,
   "metadata": {},
   "outputs": [],
   "source": [
    "lofl = [list(i) for i in topTwoWords]\n",
    "uniqueWords = list(set([item for i in range(len(lofl)) for item in lofl[i] ]))\n",
    "wordsToPrint = list([(i,mostCommonWords[i]) for i in uniqueWords])"
   ]
  },
  {
   "cell_type": "code",
   "execution_count": 57,
   "metadata": {},
   "outputs": [],
   "source": [
    "# [k,v for k in topTwoWords]\n",
    "\n",
    "links = []\n",
    "for k,v in topTwoWords.items():\n",
    "    d = {'source': k[0], 'target': k[1], 'value':v/114000}\n",
    "    links.append(d)"
   ]
  },
  {
   "cell_type": "code",
   "execution_count": 49,
   "metadata": {},
   "outputs": [],
   "source": [
    "nodes = []\n",
    "for i,c in wordsToPrint:\n",
    "    d = {'id': i,\"group\":c/100000}\n",
    "    nodes.append(d)"
   ]
  },
  {
   "cell_type": "code",
   "execution_count": 58,
   "metadata": {},
   "outputs": [],
   "source": [
    "force = {'nodes':nodes,'links':links}"
   ]
  },
  {
   "cell_type": "code",
   "execution_count": 60,
   "metadata": {},
   "outputs": [],
   "source": [
    "import json\n",
    "# json.dumps(force)\n",
    "\n",
    "with open('force.json', 'w') as fp:\n",
    "    json.dump(force, fp)"
   ]
  },
  {
   "cell_type": "code",
   "execution_count": null,
   "metadata": {},
   "outputs": [],
   "source": []
  }
 ],
 "metadata": {
  "kernelspec": {
   "display_name": "Python 3",
   "language": "python",
   "name": "python3"
  },
  "language_info": {
   "codemirror_mode": {
    "name": "ipython",
    "version": 3
   },
   "file_extension": ".py",
   "mimetype": "text/x-python",
   "name": "python",
   "nbconvert_exporter": "python",
   "pygments_lexer": "ipython3",
   "version": "3.6.4"
  }
 },
 "nbformat": 4,
 "nbformat_minor": 2
}
